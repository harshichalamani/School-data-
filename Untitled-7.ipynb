{
 "cells": [
  {
   "cell_type": "code",
   "execution_count": 1,
   "id": "15a9e27a",
   "metadata": {},
   "outputs": [
    {
     "name": "stdout",
     "output_type": "stream",
     "text": [
      "[('01', 'History', '02'), ('02', 'Calculus', '01'), ('03', 'CS-I', '03')]\n"
     ]
    }
   ],
   "source": [
    "import sqlite3\n",
    "conn=sqlite3.connect('lab3.db')\n",
    "c=conn.cursor()\n",
    "\n",
    "c.execute(\"select*from course\")\n",
    "items=c.fetchall()\n",
    "print(items)\n",
    "\n",
    "conn.commit()\n"
   ]
  },
  {
   "cell_type": "code",
   "execution_count": 4,
   "id": "74fc0cff",
   "metadata": {},
   "outputs": [
    {
     "name": "stdout",
     "output_type": "stream",
     "text": [
      "[('05',), ('07',)]\n"
     ]
    }
   ],
   "source": [
    "#Question 1\n",
    "c.execute(\"select sid from grade where score > 80 and score < 90\") \n",
    "items=c.fetchall()\n",
    "print(items)\n",
    "\n",
    "conn.commit()"
   ]
  },
  {
   "cell_type": "code",
   "execution_count": 5,
   "id": "cd4ce728",
   "metadata": {},
   "outputs": [
    {
     "name": "stdout",
     "output_type": "stream",
     "text": [
      "[('Peter', 80)]\n"
     ]
    }
   ],
   "source": [
    "#Question 2\n",
    "c.execute(\"select sname, MAX(score) from student inner join grade on grade.sid=student.sid inner join course on course.cid= grade.cid where cname='History'\")\n",
    "items=c.fetchall()\n",
    "print(items)\n",
    "\n",
    "conn.commit()\n",
    "\n"
   ]
  },
  {
   "cell_type": "code",
   "execution_count": 19,
   "id": "243b3c50",
   "metadata": {},
   "outputs": [
    {
     "name": "stdout",
     "output_type": "stream",
     "text": [
      "[('Peter', 89.66666666666667, '01'), ('Lee', 80.0, '01'), ('Eda', 81.5, '01'), ('Silas', 93.5, '02')]\n"
     ]
    }
   ],
   "source": [
    "#Question 3\n",
    "c.execute(\"select sname, AVG(score) , grade.cid from student inner join grade on grade.sid=student.sid inner join course on course.cid = grade.cid group by grade.sid having AVG(score) > 70\")\n",
    "items=c.fetchall() \n",
    "print(items)\n",
    "\n",
    "conn.commit()\n"
   ]
  },
  {
   "cell_type": "code",
   "execution_count": 29,
   "id": "3f0efab7",
   "metadata": {},
   "outputs": [
    {
     "name": "stdout",
     "output_type": "stream",
     "text": [
      "[('Peter', 'Miles'), ('Peter', 'June'), ('Sam', 'Miles'), ('Sam', 'June'), ('Lee', 'Miles'), ('Lee', 'June'), ('June', 'Miles'), ('June', 'June'), ('Eda', 'Miles'), ('Eloise', 'Miles'), ('Eloise', 'June'), ('Silas', 'June')]\n"
     ]
    }
   ],
   "source": [
    "#Question 4\n",
    "c.execute(\"select sname, pname from student left join grade on grade.sid=student.sid left join course on course.cid = grade.cid left join instructor on instructor.pid = course.pid where pname <> 'Everett'\")\n",
    "items=c.fetchall() \n",
    "print(items)\n",
    "\n",
    "conn.commit()"
   ]
  },
  {
   "cell_type": "code",
   "execution_count": 34,
   "id": "c2a9a8af",
   "metadata": {},
   "outputs": [
    {
     "name": "stdout",
     "output_type": "stream",
     "text": [
      "[('Peter', 90), ('Silas', 89), ('Eda', 87), ('Lee', 80)]\n"
     ]
    }
   ],
   "source": [
    "#Question 5\n",
    "c.execute(\"select sname, score from student inner join grade on grade.sid = student.sid inner join course on course.cid = grade.cid where cname = 'Calculus' and score >=(select MAX(score) from grade inner join course on course.cid = grade.cid where cname = 'History') order by score desc \")\n",
    "items=c.fetchall() \n",
    "print(items)\n",
    "\n",
    "conn.commit()"
   ]
  },
  {
   "cell_type": "code",
   "execution_count": 7,
   "id": "bd514f28",
   "metadata": {},
   "outputs": [
    {
     "name": "stdout",
     "output_type": "stream",
     "text": [
      "[('Hazel',), ('Oscar',), ('Royal',), ('Lucy',)]\n"
     ]
    }
   ],
   "source": [
    "#Question 6\n",
    "c.execute(\"select distinct sname from student left join grade on grade.sid = student.sid where cid is null \")\n",
    "items=c.fetchall() \n",
    "print(items)\n",
    "\n",
    "conn.commit()"
   ]
  },
  {
   "cell_type": "code",
   "execution_count": 11,
   "id": "75dc3e7b",
   "metadata": {},
   "outputs": [
    {
     "name": "stdout",
     "output_type": "stream",
     "text": [
      "[('F', 69.16666666666667), ('M', 68.25)]\n"
     ]
    }
   ],
   "source": [
    "#Question 7\n",
    "c.execute(\"select sgender, AVG(score) from student inner join grade on grade.sid = student.sid group by sgender\")\n",
    "items=c.fetchall() \n",
    "print(items)\n",
    "\n",
    "conn.commit()"
   ]
  },
  {
   "cell_type": "code",
   "execution_count": 14,
   "id": "b1faae09",
   "metadata": {},
   "outputs": [
    {
     "name": "stdout",
     "output_type": "stream",
     "text": [
      "[('CS-I', 6), ('Calculus', 6), ('History', 6)]\n"
     ]
    }
   ],
   "source": [
    "#Question 8\n",
    "c.execute(\"select cname, count(student.sid) from course inner join grade on grade.cid = course.cid inner join student on student.sid = grade.sid group by cname\")\n",
    "items=c.fetchall() \n",
    "print(items)\n",
    "\n",
    "conn.commit()"
   ]
  },
  {
   "cell_type": "code",
   "execution_count": 2,
   "id": "78b68720",
   "metadata": {},
   "outputs": [
    {
     "name": "stdout",
     "output_type": "stream",
     "text": [
      "[('01',), ('01',), ('01',)]\n"
     ]
    }
   ],
   "source": [
    "#Question 9\n",
    "c.execute(\"select g.sid from grade g where g.score > (select AVG(score) from grade where g.cid = cid) group by g.cid\")\n",
    "items=c.fetchall() \n",
    "print(items)\n",
    "\n",
    "conn.commit()"
   ]
  },
  {
   "cell_type": "code",
   "execution_count": 10,
   "id": "4d760f58",
   "metadata": {},
   "outputs": [
    {
     "ename": "SyntaxError",
     "evalue": "invalid syntax (1380948709.py, line 2)",
     "output_type": "error",
     "traceback": [
      "\u001b[0;36m  Cell \u001b[0;32mIn[10], line 2\u001b[0;36m\u001b[0m\n\u001b[0;31m    ALTER TABLE Student ADD GPA DECIMAL(3.1);\u001b[0m\n\u001b[0m          ^\u001b[0m\n\u001b[0;31mSyntaxError\u001b[0m\u001b[0;31m:\u001b[0m invalid syntax\n"
     ]
    }
   ],
   "source": [
    "#Question 10\n",
    "ALTER TABLE Student ADD GPA DECIMAL(3.1);\n",
    "\n",
    "UPDATE Student\n",
    "SET GPA = CASE\n",
    "            WHEN score >= 90 THEN 4.0\n",
    "            WHEN score >= 87 THEN 3.7\n",
    "            WHEN score >= 83 THEN 3.3\n",
    "\n",
    "            WHEN score >= 80 THEN 3.0\n",
    "            WHEN score >= 77 THEN 2.7\n",
    "            WHEN score >= 70 THEN 2.0\n",
    "            WHEN score <= 70 AND score > 60 THEN 1.0\n",
    "            ELSE 0.0\n"
   ]
  },
  {
   "cell_type": "code",
   "execution_count": null,
   "id": "894f2745",
   "metadata": {},
   "outputs": [],
   "source": []
  }
 ],
 "metadata": {
  "kernelspec": {
   "display_name": "Python 3 (ipykernel)",
   "language": "python",
   "name": "python3"
  },
  "language_info": {
   "codemirror_mode": {
    "name": "ipython",
    "version": 3
   },
   "file_extension": ".py",
   "mimetype": "text/x-python",
   "name": "python",
   "nbconvert_exporter": "python",
   "pygments_lexer": "ipython3",
   "version": "3.10.9"
  }
 },
 "nbformat": 4,
 "nbformat_minor": 5
}
